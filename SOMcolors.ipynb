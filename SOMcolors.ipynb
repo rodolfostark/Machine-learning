{
  "nbformat": 4,
  "nbformat_minor": 0,
  "metadata": {
    "colab": {
      "name": "SOMcolors.ipynb",
      "version": "0.3.2",
      "provenance": [],
      "collapsed_sections": []
    }
  },
  "cells": [
    {
      "metadata": {
        "id": "qaeJn9Zrz8Si",
        "colab_type": "code",
        "colab": {}
      },
      "cell_type": "code",
      "source": [
        "# SOM\n",
        "# from https://www.superdatascience.com/deep-learning/ \n",
        "\n",
        "\n",
        "# Importing the libraries\n",
        "import numpy as np\n",
        "import matplotlib.pyplot as plt\n",
        "import pandas as pd"
      ],
      "execution_count": 0,
      "outputs": []
    },
    {
      "metadata": {
        "id": "SSi253VYR8e3",
        "colab_type": "code",
        "colab": {
          "base_uri": "https://localhost:8080/",
          "height": 34
        },
        "outputId": "c2c1a5ef-2281-4e87-cd54-3f37d4a06879"
      },
      "cell_type": "code",
      "source": [
        "# Install MiniSOM\n",
        "# https://github.com/JustGlowing/minisom \n",
        "!pip install minisom"
      ],
      "execution_count": 77,
      "outputs": [
        {
          "output_type": "stream",
          "text": [
            "Requirement already satisfied: minisom in /usr/local/lib/python2.7/dist-packages (2.0.0)\n"
          ],
          "name": "stdout"
        }
      ]
    },
    {
      "metadata": {
        "id": "ffmfHSSMR-Ad",
        "colab_type": "code",
        "colab": {
          "base_uri": "https://localhost:8080/",
          "height": 34
        },
        "outputId": "eeca0b3b-ce37-48ad-a638-b721c55d4b66"
      },
      "cell_type": "code",
      "source": [
        "# Getting the data\n",
        "\n",
        "import os\n",
        "import tarfile\n",
        "from six.moves import urllib\n",
        "import csv\n",
        "\n",
        "FILE_TO_DOWNLOAD =  \"objetosECores.csv\"\n",
        "DOWNLOAD_ROOT = \"https://raw.githubusercontent.com/rodolfostark/ColorSensorMachineLearning/\"\n",
        "DATA_PATH = \"master/\"\n",
        "DATA_URL = DOWNLOAD_ROOT + DATA_PATH + FILE_TO_DOWNLOAD\n",
        "\n",
        "def fetch_data(data_url=DATA_URL, data_path=DATA_PATH, file_to_download=FILE_TO_DOWNLOAD):\n",
        "  if not os.path.isdir(data_path):\n",
        "    os.makedirs(data_path)\n",
        "  urllib.request.urlretrieve(data_url, data_path+file_to_download)\n",
        "  \n",
        "fetch_data()\n",
        "\n",
        "# observando se o diretório datasets foi criado com sucesso \n",
        "# !ls dados\n",
        "\n",
        "\n",
        "!ls master/"
      ],
      "execution_count": 78,
      "outputs": [
        {
          "output_type": "stream",
          "text": [
            "objetosECores.csv\n"
          ],
          "name": "stdout"
        }
      ]
    },
    {
      "metadata": {
        "id": "s7V0kmhxSnN_",
        "colab_type": "code",
        "colab": {
          "base_uri": "https://localhost:8080/",
          "height": 1054
        },
        "outputId": "0a8349cb-8b8f-403a-e3b3-e0b434766991"
      },
      "cell_type": "code",
      "source": [
        "#processo de leitura do arquivo de DADOS\n",
        "\n",
        "leitura = csv.reader(open('master/objetosECores.csv','r'))\n",
        "leitura = list(leitura) # tem que converter pra lista primeiro\n",
        "leitura = np.array(leitura)# e depois converte pra array\n",
        "#leitura2 = leitura.astype(int)\n",
        "# sequencias de testes pra checar se o array foi gerado de forma correta\n",
        "#print (leitura)\n",
        "print(\"\\n\")\n",
        "#print(leitura[0])\n",
        "print(\"\\n\")\n",
        "#print(leitura[0][0])\n",
        "\n",
        "objetos_coloridos = leitura [1:,0:3] # objeto vermelho é o array apenas numérico\n",
        "objetos_coloridos = objetos_coloridos.astype(float)\n",
        "print(objetos_coloridos)\n",
        "y = leitura [1:,3] # objeto vermelho é o array apenas numérico\n",
        "y = y.astype(int)\n",
        "print(y)\n"
      ],
      "execution_count": 79,
      "outputs": [
        {
          "output_type": "stream",
          "text": [
            "\n",
            "\n",
            "\n",
            "\n",
            "[[ 76. 272.  48.]\n",
            " [ 68. 272.  48.]\n",
            " [ 76. 264.  48.]\n",
            " [ 75. 258.  48.]\n",
            " [ 76. 273.  48.]\n",
            " [ 76. 273.  48.]\n",
            " [ 76. 273.  48.]\n",
            " [ 76. 274.  48.]\n",
            " [ 76. 266.  48.]\n",
            " [ 72. 281.  43.]\n",
            " [ 78. 276.  49.]\n",
            " [ 78. 267.  49.]\n",
            " [ 78. 274.  49.]\n",
            " [ 78. 281.  49.]\n",
            " [ 78. 282.  49.]\n",
            " [ 78. 282.  50.]\n",
            " [ 78. 276.  50.]\n",
            " [ 78. 282.  49.]\n",
            " [126.  67.  23.]\n",
            " [127.  60.  23.]\n",
            " [121.  68.  22.]\n",
            " [127.  68.  23.]\n",
            " [127.  64.  23.]\n",
            " [119.  68.  22.]\n",
            " [127.  68.  22.]\n",
            " [121.  67.  22.]\n",
            " [126.  67.  22.]\n",
            " [122.  67.  22.]\n",
            " [122.  59.  22.]\n",
            " [122.  67.  22.]\n",
            " [116.  67.  22.]\n",
            " [114.  67.  22.]\n",
            " [122.  67.  22.]\n",
            " [122.  67.  22.]\n",
            " [122.  67.  22.]\n",
            " [122.  67.  22.]\n",
            " [157. 154.  39.]\n",
            " [157. 154.  39.]\n",
            " [151. 154.  39.]\n",
            " [158. 148.  39.]\n",
            " [158. 154.  39.]\n",
            " [158. 155.  39.]\n",
            " [151. 148.  39.]\n",
            " [158. 154.  39.]\n",
            " [157. 155.  39.]\n",
            " [158. 155.  40.]\n",
            " [152. 155.  39.]\n",
            " [159. 149.  39.]\n",
            " [158. 156.  39.]\n",
            " [159. 156.  39.]\n",
            " [159. 156.  39.]\n",
            " [159. 156.  39.]\n",
            " [158. 156.  39.]\n",
            " [153. 156.  39.]]\n",
            "[-1 -1 -1 -1 -1 -1 -1 -1 -1 -1 -1 -1 -1 -1 -1 -1 -1 -1  0  0  0  0  0  0\n",
            "  0  0  0  0  0  0  0  0  0  0  0  0  1  1  1  1  1  1  1  1  1  1  1  1\n",
            "  1  1  1  1  1  1]\n"
          ],
          "name": "stdout"
        }
      ]
    },
    {
      "metadata": {
        "id": "ELXgWBwPSxUU",
        "colab_type": "code",
        "colab": {}
      },
      "cell_type": "code",
      "source": [
        "X = objetos_coloridos\n",
        "\n",
        "# Training the SOM\n",
        "from minisom import MiniSom\n",
        "som = MiniSom(x = 25, y = 25, input_len = 3, sigma = 1.0, learning_rate = 0.5)\n",
        "som.random_weights_init(X)\n",
        "som.train_random(data = X, num_iteration = 100)"
      ],
      "execution_count": 0,
      "outputs": []
    },
    {
      "metadata": {
        "id": "lhnQcRkmTz7r",
        "colab_type": "code",
        "colab": {
          "base_uri": "https://localhost:8080/",
          "height": 351
        },
        "outputId": "be3d5e71-ae6b-4bf1-c4a3-de35e2846cbd"
      },
      "cell_type": "code",
      "source": [
        "# Visualizing the results\n",
        "from pylab import bone, pcolor, colorbar, plot, show\n",
        "bone()\n",
        "pcolor(som.distance_map().T)\n",
        "colorbar()\n",
        "markers = ['o', 'o', 'o']\n",
        "colors = ['r', 'g', 'b']\n",
        "\n",
        "#futher read https://matplotlib.org/2.0.2/api/colors_api.html\n",
        "\n",
        "teste_vermelho = [45, 156, 115]\n",
        "teste_verde = [101, 67, 65]\n",
        "teste_azul = [172, 184, 104]\n",
        "\n",
        "\n",
        "\n",
        "for i, x in enumerate(X):\n",
        "    w = som.winner(x)\n",
        "    plot(w[0] + 0.5,\n",
        "         w[1] + 0.5,\n",
        "         markers[1+y[i]],\n",
        "         markeredgecolor = colors[1+y[i]],\n",
        "         markerfacecolor = 'None',\n",
        "         markersize = 10,\n",
        "         markeredgewidth = 2) \n",
        "    \n",
        "m = som.winner(teste_vermelho)\n",
        "plot(m[0] + 0.5, m[1] + 0.5, 'D', markeredgecolor = 'w',  markerfacecolor = 'None',  markersize = 10,  markeredgewidth = 2)\n",
        "\n",
        "show()\n",
        "\n",
        "\n"
      ],
      "execution_count": 81,
      "outputs": [
        {
          "output_type": "display_data",
          "data": {
            "image/png": "[encoded data removed]",
            "text/plain": [
              "<matplotlib.figure.Figure at 0x7f908a1f6e50>"
            ]
          },
          "metadata": {
            "tags": []
          }
        }
      ]
    }
  ]
}