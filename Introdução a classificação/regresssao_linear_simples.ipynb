from sklearn import linear_model
from six.moves import urllib
import matplotlib.pyplot as plt
import pandas as pd
import os
import tarfile

ILE_TO_DOWNLOAD =  "Salary_Data.csv"
DOWNLOAD_ROOT = "https://github.com/ect-info/ml/raw/master/"
DATA_PATH = "dados/"
DATA_URL = DOWNLOAD_ROOT + DATA_PATH + FILE_TO_DOWNLOAD

def fetch_data(data_url=DATA_URL, data_path=DATA_PATH, file_to_download=FILE_TO_DOWNLOAD):
  if not os.path.isdir(data_path):
    os.makedirs(data_path)
  urllib.request.urlretrieve(data_url, data_path+"Salary_Data.csv")
  
fetch_data()

def load_data(data_path=DATA_PATH, file_to_download=FILE_TO_DOWNLOAD):
  csv_path = os.path.join(data_path,file_to_download)
  return pd.read_csv(csv_path)

salary_data = load_data()

X = salary_data.iloc[:,:-1].values
Y = salary_data.iloc[:, 1].values

salary_x_treinamento = X[:-20]
salary_y_treinamento = Y[:-20]

salary_x_teste = X[-20:]
salary_y_teste = Y[-20:]

regr = linear_model.LinearRegression()
regr.fit(salary_x_treinamento, salary_y_treinamento)
salary_y_pred = regr.predict(salary_x_teste)

plt.scatter(salary_x_teste, salary_y_teste,  color='black')
plt.plot(salary_x_teste, salary_y_pred , color='blue', linewidth=3)
plt.show()
