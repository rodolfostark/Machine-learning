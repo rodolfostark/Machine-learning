{
  "nbformat": 4,
  "nbformat_minor": 0,
  "metadata": {
    "colab": {
      "name": "MLPColorSensorClassifier.ipynb",
      "version": "0.3.2",
      "provenance": [],
      "collapsed_sections": [],
      "include_colab_link": true
    },
    "kernelspec": {
      "name": "python3",
      "display_name": "Python 3"
    }
  },
  "cells": [
    {
      "cell_type": "markdown",
      "metadata": {
        "id": "view-in-github",
        "colab_type": "text"
      },
      "source": [
        "<a href=\"https://colab.research.google.com/github/rodolfostark/Machine-learning/blob/master/MLPColorSensorClassifier.ipynb\" target=\"_parent\"><img src=\"https://colab.research.google.com/assets/colab-badge.svg\" alt=\"Open In Colab\"/></a>"
      ]
    },
    {
      "metadata": {
        "id": "3aRC3nuXTiiT",
        "colab_type": "code",
        "colab": {}
      },
      "cell_type": "code",
      "source": [
        "# Importando as bibliotecas e iniciando as variaveis com o caminho do dataset\n",
        "import numpy as np\n",
        "import os\n",
        "import tarfile\n",
        "from six.moves import urllib\n",
        "import csv\n",
        "\n",
        "FILE_TO_DOWNLOAD =  \"objetosECores.csv\"\n",
        "DOWNLOAD_ROOT = \"https://raw.githubusercontent.com/rodolfostark/ColorSensorMachineLearning/\"\n",
        "DATA_PATH = \"master/\"\n",
        "DATA_URL = DOWNLOAD_ROOT + DATA_PATH + FILE_TO_DOWNLOAD"
      ],
      "execution_count": 0,
      "outputs": []
    },
    {
      "metadata": {
        "id": "q53hU3PZTsvm",
        "colab_type": "code",
        "colab": {
          "base_uri": "https://localhost:8080/",
          "height": 35
        },
        "outputId": "93f1d1e1-a16a-47b6-cb80-b49837fc34dd"
      },
      "cell_type": "code",
      "source": [
        "# Função que faz o download dos dados\n",
        "def fetch_data(data_url=DATA_URL, data_path=DATA_PATH, file_to_download=FILE_TO_DOWNLOAD):\n",
        "  if not os.path.isdir(data_path):\n",
        "    os.makedirs(data_path)\n",
        "  urllib.request.urlretrieve(data_url, data_path+file_to_download)\n",
        "  \n",
        "fetch_data()\n",
        "!ls master"
      ],
      "execution_count": 24,
      "outputs": [
        {
          "output_type": "stream",
          "text": [
            "objetosECores.csv\n"
          ],
          "name": "stdout"
        }
      ]
    },
    {
      "metadata": {
        "id": "-QKL9H_BUB37",
        "colab_type": "code",
        "colab": {}
      },
      "cell_type": "code",
      "source": [
        "# Prepadando os dados\n",
        "leitura = csv.reader(open('master/objetosECores.csv','r'))\n",
        "leitura = list(leitura)\n",
        "\n",
        "objetos_coloridos = list()\n",
        "y = list()\n",
        "\n",
        "for l in range(1, len(leitura)):\n",
        "  y.append(int(leitura[l][3]) + 1)\n",
        "\n",
        "for i in range(1, len(leitura)):\n",
        "  objetos_coloridos.append(leitura[i])\n",
        "  \n",
        "for j in range(0, len(objetos_coloridos)):\n",
        "  objetos_coloridos[j].pop()\n",
        "  for k in range(0, len(objetos_coloridos[j])):\n",
        "    objetos_coloridos[j][k] = float(objetos_coloridos[j][k]) \n",
        "    \n",
        "Y = np.array(y)\n",
        "X = np.array(objetos_coloridos)"
      ],
      "execution_count": 0,
      "outputs": []
    },
    {
      "metadata": {
        "id": "S1zb5DjNUotc",
        "colab_type": "code",
        "colab": {}
      },
      "cell_type": "code",
      "source": [
        "# Separando subconjuntos para treino e teste\n",
        "from sklearn.model_selection import train_test_split\n",
        "\n",
        "X_train, X_test, y_train, y_test = train_test_split(X, Y, test_size = 0.25, random_state = 0)"
      ],
      "execution_count": 0,
      "outputs": []
    },
    {
      "metadata": {
        "id": "e8SZpfOkVGkV",
        "colab_type": "code",
        "colab": {
          "base_uri": "https://localhost:8080/",
          "height": 35
        },
        "outputId": "038cd0bb-1634-490f-95ce-9a5872a42427"
      },
      "cell_type": "code",
      "source": [
        "# Importado classificador\n",
        "from sklearn.neural_network import MLPClassifier\n",
        "clf = MLPClassifier(solver='lbfgs', alpha=1e-5, hidden_layer_sizes=(15,), random_state=1)\n",
        "clf.fit(X_train, y_train)\n",
        "clf.predict(X_test)"
      ],
      "execution_count": 27,
      "outputs": [
        {
          "output_type": "execute_result",
          "data": {
            "text/plain": [
              "array([2, 1, 2, 1, 0, 0, 1, 2, 2, 1, 0, 0, 1, 1])"
            ]
          },
          "metadata": {
            "tags": []
          },
          "execution_count": 27
        }
      ]
    },
    {
      "metadata": {
        "id": "t9H4qRSLVXu_",
        "colab_type": "code",
        "colab": {
          "base_uri": "https://localhost:8080/",
          "height": 71
        },
        "outputId": "ee40f78e-9a12-4b3d-b3e6-a65ff2ed3387"
      },
      "cell_type": "code",
      "source": [
        "#importando matrix de confusão\n",
        "from sklearn.metrics import confusion_matrix\n",
        "\n",
        "y_pred = clf.predict(X_test)\n",
        "cm = confusion_matrix(y_test, y_pred)\n",
        "\n",
        "print(cm)"
      ],
      "execution_count": 28,
      "outputs": [
        {
          "output_type": "stream",
          "text": [
            "[[4 0 0]\n",
            " [0 6 0]\n",
            " [0 0 4]]\n"
          ],
          "name": "stdout"
        }
      ]
    }
  ]
}