{
  "nbformat": 4,
  "nbformat_minor": 0,
  "metadata": {
    "colab": {
      "name": "MlpClassificadorDeCores.ipynb",
      "version": "0.3.2",
      "provenance": [],
      "collapsed_sections": []
    }
  },
  "cells": [
    {
      "metadata": {
        "id": "ofVAZ7JeKhWm",
        "colab_type": "code",
        "colab": {
          "base_uri": "https://localhost:8080/",
          "height": 35
        },
        "outputId": "221691c8-6423-46e6-ae4c-0a89a0017da4"
      },
      "cell_type": "code",
      "source": [
        "# importando a base de dados\n",
        "import numpy as np\n",
        "import matplotlib.pyplot as plt\n",
        "import pandas as pd\n",
        "import os\n",
        "import tarfile\n",
        "from six.moves import urllib\n",
        "import csv\n",
        "\n",
        "FILE_TO_DOWNLOAD =  \"objetosECores.csv\"\n",
        "DOWNLOAD_ROOT = \"https://raw.githubusercontent.com/rodolfostark/ColorSensorMachineLearning/\"\n",
        "DATA_PATH = \"master/\"\n",
        "DATA_URL = DOWNLOAD_ROOT + DATA_PATH + FILE_TO_DOWNLOAD\n",
        "\n",
        "def fetch_data(data_url=DATA_URL, data_path=DATA_PATH, file_to_download=FILE_TO_DOWNLOAD):\n",
        "  if not os.path.isdir(data_path):\n",
        "    os.makedirs(data_path)\n",
        "  urllib.request.urlretrieve(data_url, data_path+file_to_download)\n",
        "  \n",
        "fetch_data()\n",
        "\n",
        "# observando se o diretório datasets foi criado com sucesso \n",
        "# !ls dados\n",
        "\n",
        "\n",
        "!ls master/\n"
      ],
      "execution_count": 410,
      "outputs": [
        {
          "output_type": "stream",
          "text": [
            "matriz_y.csv  objetosECores.csv\n"
          ],
          "name": "stdout"
        }
      ]
    },
    {
      "metadata": {
        "id": "dxHAKW0iKnHj",
        "colab_type": "code",
        "colab": {
          "base_uri": "https://localhost:8080/",
          "height": 35
        },
        "outputId": "23f9ed4f-877e-47b3-f06f-0311bccf2d71"
      },
      "cell_type": "code",
      "source": [
        "FILE_TO_DOWNLOAD =  \"matriz_y.csv\"\n",
        "DOWNLOAD_ROOT = \"https://raw.githubusercontent.com/rodolfostark/ColorSensorMachineLearning/\"\n",
        "DATA_PATH = \"master/\"\n",
        "DATA_URL = DOWNLOAD_ROOT + DATA_PATH + FILE_TO_DOWNLOAD\n",
        "\n",
        "def fetch_data(data_url=DATA_URL, data_path=DATA_PATH, file_to_download=FILE_TO_DOWNLOAD):\n",
        "  if not os.path.isdir(data_path):\n",
        "    os.makedirs(data_path)\n",
        "  urllib.request.urlretrieve(data_url, data_path+file_to_download)\n",
        "  \n",
        "fetch_data()\n",
        "\n",
        "# observando se o diretório datasets foi criado com sucesso \n",
        "# !ls dados\n",
        "\n",
        "\n",
        "!ls master/"
      ],
      "execution_count": 411,
      "outputs": [
        {
          "output_type": "stream",
          "text": [
            "matriz_y.csv  objetosECores.csv\n"
          ],
          "name": "stdout"
        }
      ]
    },
    {
      "metadata": {
        "id": "SG592kuaKpiO",
        "colab_type": "code",
        "colab": {
          "base_uri": "https://localhost:8080/",
          "height": 1072
        },
        "outputId": "ad4de6bf-2a24-4a29-c1c8-1925229142fb"
      },
      "cell_type": "code",
      "source": [
        "#processo de leitura do arquivo de DADOS\n",
        "\n",
        "leitura = csv.reader(open('master/objetosECores.csv','r'))\n",
        "leitura = list(leitura) # tem que converter pra lista primeiro\n",
        "leitura = np.array(leitura)# e depois converte pra array\n",
        "\n",
        "# sequencias de testes pra checar se o array foi gerado de forma correta\n",
        "#print (leitura)\n",
        "print(\"\\n\")\n",
        "#print(leitura[0])\n",
        "print(\"\\n\")\n",
        "#print(leitura[0][0])\n",
        "\n",
        "objetos_coloridos = leitura [1:,0:3] # objeto vermelho é o array apenas numérico\n",
        "y = leitura [1:,3]\n",
        "print(objetos_coloridos)\n",
        "#for i in range (1, len(y)):\n",
        " #   y[i]=int(y[i])*100\n",
        "\n"
      ],
      "execution_count": 412,
      "outputs": [
        {
          "output_type": "stream",
          "text": [
            "\n",
            "\n",
            "\n",
            "\n",
            "[['76' ' 272' ' 48']\n",
            " ['68' ' 272' ' 48']\n",
            " ['76' ' 264' ' 48']\n",
            " ['75' ' 258' ' 48']\n",
            " ['76' ' 273' ' 48']\n",
            " ['76' ' 273' ' 48']\n",
            " ['76' ' 273' ' 48']\n",
            " ['76' ' 274' ' 48']\n",
            " ['76' ' 266' ' 48']\n",
            " ['72' ' 281' ' 43']\n",
            " ['78' ' 276' ' 49']\n",
            " ['78' ' 267' ' 49']\n",
            " ['78' ' 274' ' 49']\n",
            " ['78' ' 281' ' 49']\n",
            " ['78' ' 282' ' 49']\n",
            " ['78' ' 282' ' 50']\n",
            " ['78' ' 276' ' 50']\n",
            " ['78' ' 282' ' 49']\n",
            " ['126' ' 67' ' 23']\n",
            " ['127' ' 60' ' 23']\n",
            " ['121' ' 68' ' 22']\n",
            " ['127' ' 68' ' 23']\n",
            " ['127' ' 64' ' 23']\n",
            " ['119' ' 68' ' 22']\n",
            " ['127' ' 68' ' 22']\n",
            " ['121' ' 67' ' 22']\n",
            " ['126' ' 67' ' 22']\n",
            " ['122' ' 67' ' 22']\n",
            " ['122' ' 59' ' 22']\n",
            " ['122' ' 67' ' 22']\n",
            " ['116' ' 67' ' 22']\n",
            " ['114' ' 67' ' 22']\n",
            " ['122' ' 67' ' 22']\n",
            " ['122' ' 67' ' 22']\n",
            " ['122' ' 67' ' 22']\n",
            " ['122' ' 67' ' 22']\n",
            " ['157' ' 154' ' 39']\n",
            " ['157' ' 154' ' 39']\n",
            " ['151' ' 154' ' 39']\n",
            " ['158' ' 148' ' 39']\n",
            " ['158' ' 154' ' 39']\n",
            " ['158' ' 155' ' 39']\n",
            " ['151' ' 148' ' 39']\n",
            " ['158' ' 154' ' 39']\n",
            " ['157' ' 155' ' 39']\n",
            " ['158' ' 155' ' 40']\n",
            " ['152' ' 155' ' 39']\n",
            " ['159' ' 149' ' 39']\n",
            " ['158' ' 156' ' 39']\n",
            " ['159' ' 156' ' 39']\n",
            " ['159' ' 156' ' 39']\n",
            " ['159' ' 156' ' 39']\n",
            " ['158' ' 156' ' 39']\n",
            " ['153' ' 156' ' 39']]\n"
          ],
          "name": "stdout"
        }
      ]
    },
    {
      "metadata": {
        "id": "4vRodW-mKwJJ",
        "colab_type": "code",
        "colab": {
          "base_uri": "https://localhost:8080/",
          "height": 90
        },
        "outputId": "fb9d8325-5c79-4e2a-e252-b714363cef8b"
      },
      "cell_type": "code",
      "source": [
        "#processo de leitura do arquivo de DADOS\n",
        "\n",
        "leitura_Y = csv.reader(open('master/matriz_y.csv','r'))\n",
        "leitura_Y = list(leitura_Y) # tem que converter pra lista primeiro\n",
        "leitura_Y = np.array(leitura_Y)# e depois converte pra array\n",
        "\n",
        "# sequencias de testes pra checar se o array foi gerado de forma correta\n",
        "#print (leitura)\n",
        "print(\"\\n\")\n",
        "#print(leitura[0])\n",
        "print(\"\\n\")\n",
        "#print(leitura[0][0])\n",
        "\n",
        "#print(leitura_Y)"
      ],
      "execution_count": 413,
      "outputs": [
        {
          "output_type": "stream",
          "text": [
            "\n",
            "\n",
            "\n",
            "\n"
          ],
          "name": "stdout"
        }
      ]
    },
    {
      "metadata": {
        "id": "YBBxU1ZgKyp5",
        "colab_type": "code",
        "colab": {
          "base_uri": "https://localhost:8080/",
          "height": 108
        },
        "outputId": "f54c0634-6988-48d2-a2fd-931563613db3"
      },
      "cell_type": "code",
      "source": [
        "# Divisão de dados em matriz de features e array de classes \n",
        "Y = leitura_Y\n",
        "X = objetos_coloridos[:,:] # features' matrices\n",
        "print(y)"
      ],
      "execution_count": 414,
      "outputs": [
        {
          "output_type": "stream",
          "text": [
            "[' -1' ' -1' ' -1' ' -1' ' -1' ' -1' ' -1' ' -1' ' -1' ' -1' ' -1' ' -1'\n",
            " ' -1' ' -1' ' -1' ' -1' ' -1' ' -1' ' 0' ' 0' ' 0' ' 0' ' 0' ' 0' ' 0'\n",
            " ' 0' ' 0' ' 0' ' 0' ' 0' ' 0' ' 0' ' 0' ' 0' ' 0' ' 0' ' 1' ' 1' ' 1'\n",
            " ' 1' ' 1' ' 1' ' 1' ' 1' ' 1' ' 1' ' 1' ' 1' ' 1' ' 1' ' 1' ' 1' ' 1'\n",
            " ' 1']\n"
          ],
          "name": "stdout"
        }
      ]
    },
    {
      "metadata": {
        "id": "tQJ4cYc4K1aI",
        "colab_type": "code",
        "colab": {}
      },
      "cell_type": "code",
      "source": [
        "from sklearn.model_selection import train_test_split\n",
        "\n",
        "X_train, X_test, y_train, y_test = train_test_split(X, y,test_size = 0.2, random_state = 0)\n"
      ],
      "execution_count": 0,
      "outputs": []
    },
    {
      "metadata": {
        "id": "LkwFdb2wK3fQ",
        "colab_type": "code",
        "colab": {}
      },
      "cell_type": "code",
      "source": [
        "# Part 2 - Now let's make the ANN!\n",
        "\n",
        "# Importing the Keras libraries and packages\n",
        "import keras\n",
        "from keras.models import Sequential\n",
        "from keras.layers import Dense, Activation\n",
        "\n",
        "# Initialising the ANN\n",
        "classifier = Sequential()"
      ],
      "execution_count": 0,
      "outputs": []
    },
    {
      "metadata": {
        "id": "Qrraq8bqK7Jv",
        "colab_type": "code",
        "colab": {}
      },
      "cell_type": "code",
      "source": [
        "# We gona use two hidden layers, 4 neurons each\n",
        "\n",
        "# Adding the input layer and the first hidden layer\n",
        "classifier.add(Dense( activation = 'tanh', input_dim = 3, units = 4, kernel_initializer = 'uniform'))\n",
        "\n",
        "# Adding the second hidden layer\n",
        "classifier.add(Dense( activation = 'tanh', units = 15, kernel_initializer = 'uniform' ))\n",
        "\n",
        "# Adding the output layer\n",
        "classifier.add(Dense( activation = 'tanh', units = 1 , kernel_initializer = 'uniform'))"
      ],
      "execution_count": 0,
      "outputs": []
    },
    {
      "metadata": {
        "id": "M6j1MAA5OdMm",
        "colab_type": "code",
        "colab": {}
      },
      "cell_type": "code",
      "source": [
        "# Compiling the ANN\n",
        "classifier.compile(optimizer = 'rmsprop', loss = 'binary_crossentropy', metrics = ['accuracy'])"
      ],
      "execution_count": 0,
      "outputs": []
    },
    {
      "metadata": {
        "id": "gGqUWMUjOeT-",
        "colab_type": "code",
        "colab": {
          "base_uri": "https://localhost:8080/",
          "height": 235
        },
        "outputId": "d53ff05f-63a2-4a6c-c974-3b16b391894b"
      },
      "cell_type": "code",
      "source": [
        "# one epoch = one forward pass and one backward pass of \n",
        "#    all the training examples\n",
        "# batch size = the number of training examples in one forward/backward pass. \n",
        "#    The higher the batch size, the more memory space you'll need.\n",
        "# number of iterations = number of passes, each pass using [batch size] \n",
        "#    number of examples. To be clear, one pass = one forward pass + one\n",
        "#    backward pass (we do not count the forward pass and backward pass \n",
        "#    as two different passes).\n",
        "\n",
        "# For further reading, access <https://stats.stackexchange.com/questions/153531/what-is-batch-size-in-neural-network>\n",
        "\n",
        "# Fitting the ANN to the Training set\n",
        "\n",
        "qtd_dados_treino = len(X_train)\n",
        "print(qtd_dados_treino)\n",
        "\n",
        "classifier.fit(X_train, y_train, batch_size = qtd_dados_treino, epochs = 5, validation_data = None, validation_steps = None)"
      ],
      "execution_count": 419,
      "outputs": [
        {
          "output_type": "stream",
          "text": [
            "43\n",
            "Epoch 1/5\n",
            "43/43 [==============================] - 1s 27ms/step - loss: -3.7293 - acc: 0.3256\n",
            "Epoch 2/5\n",
            "43/43 [==============================] - 0s 94us/step - loss: -0.1449 - acc: 0.3256\n",
            "Epoch 3/5\n",
            "43/43 [==============================] - 0s 62us/step - loss: -0.3543 - acc: 0.3256\n",
            "Epoch 4/5\n",
            "43/43 [==============================] - 0s 53us/step - loss: -2.1327 - acc: 0.3256\n",
            "Epoch 5/5\n",
            "43/43 [==============================] - 0s 44us/step - loss: -2.6616 - acc: 0.3256\n"
          ],
          "name": "stdout"
        },
        {
          "output_type": "execute_result",
          "data": {
            "text/plain": [
              "<keras.callbacks.History at 0x7f3693d932d0>"
            ]
          },
          "metadata": {
            "tags": []
          },
          "execution_count": 419
        }
      ]
    },
    {
      "metadata": {
        "id": "_VJ2pOE0kt3y",
        "colab_type": "code",
        "colab": {}
      },
      "cell_type": "code",
      "source": [
        ""
      ],
      "execution_count": 0,
      "outputs": []
    },
    {
      "metadata": {
        "id": "QzmSwZWGkvDa",
        "colab_type": "code",
        "colab": {}
      },
      "cell_type": "code",
      "source": [
        "#@title Default title text\n"
      ],
      "execution_count": 0,
      "outputs": []
    },
    {
      "metadata": {
        "id": "eJZVhiTHO-rq",
        "colab_type": "code",
        "colab": {
          "base_uri": "https://localhost:8080/",
          "height": 654
        },
        "outputId": "f111a3cd-4519-4147-9f55-522fc2d436dc"
      },
      "cell_type": "code",
      "source": [
        "# Part 3 - Making the predictions and evaluating the model\n",
        "\n",
        "# Predicting the Test set results\n",
        "y_pred = classifier.predict(X_test)\n",
        "print(X_test)\n",
        "print('\\n')\n",
        "print(y_test)\n",
        "print('\\n')\n",
        "\n",
        "from sklearn.metrics import confusion_matrix\n",
        "\n",
        "for i in range(0, len(y_pred)):\n",
        "  y_pred[i] = float(y_pred[i]*100.00)\n",
        "\n",
        "print(y_pred)\n",
        "\n",
        "for i in range(0, len(y_pred)):  \n",
        "  if y_pred[i] >= 1.654:\n",
        "    y_pred[i] = 1\n",
        "  elif y_pred[i] < 0:\n",
        "    y_pred[i] = -1\n",
        "  else: \n",
        "    y_pred[i] = 0\n",
        "    \n",
        "y_test = [1,0,1,0,-1,-1,0,1,1,0,-1]\n",
        "cm = confusion_matrix(y_test, y_pred)\n",
        "print('\\n')\n",
        "print(cm)\n",
        "\n",
        "erroRelativo = np.mean(y_pred != y_test)\n",
        "print('\\n')\n",
        "print(1 - erroRelativo)"
      ],
      "execution_count": 420,
      "outputs": [
        {
          "output_type": "stream",
          "text": [
            "[['153' ' 156' ' 39']\n",
            " ['122' ' 67' ' 22']\n",
            " ['158' ' 156' ' 39']\n",
            " ['126' ' 67' ' 22']\n",
            " ['78' ' 267' ' 49']\n",
            " ['76' ' 264' ' 48']\n",
            " ['122' ' 67' ' 22']\n",
            " ['151' ' 148' ' 39']\n",
            " ['158' ' 155' ' 40']\n",
            " ['116' ' 67' ' 22']\n",
            " ['76' ' 273' ' 48']]\n",
            "\n",
            "\n",
            "[' 1' ' 0' ' 1' ' 0' ' -1' ' -1' ' 0' ' 1' ' 1' ' 0' ' -1']\n",
            "\n",
            "\n",
            "[[ 0.38071722]\n",
            " [ 0.4213212 ]\n",
            " [ 0.39387769]\n",
            " [ 0.4249678 ]\n",
            " [-0.9005896 ]\n",
            " [-0.90098053]\n",
            " [ 0.4213212 ]\n",
            " [ 0.3876649 ]\n",
            " [ 0.39479747]\n",
            " [ 0.41424084]\n",
            " [-0.9056462 ]]\n",
            "\n",
            "\n",
            "[[3 0 0]\n",
            " [0 4 0]\n",
            " [0 4 0]]\n",
            "\n",
            "\n",
            "0.33884297520661155\n"
          ],
          "name": "stdout"
        }
      ]
    }
  ]
}